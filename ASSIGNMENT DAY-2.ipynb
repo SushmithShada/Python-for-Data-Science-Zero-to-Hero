{
 "cells": [
  {
   "cell_type": "code",
   "execution_count": 4,
   "id": "c3080193",
   "metadata": {},
   "outputs": [
    {
     "name": "stdout",
     "output_type": "stream",
     "text": [
      "[0 1 2 3 4 5 6 7 8 9]\n",
      "[3 4]\n",
      "[5 6]\n",
      "<class 'numpy.ndarray'>\n",
      "<class 'numpy.ndarray'>\n",
      "[[3 4]\n",
      " [5 6]]\n"
     ]
    }
   ],
   "source": [
    "import numpy as np\n",
    "\n",
    "arr = np.arange(0,10)\n",
    "print(arr)\n",
    "\n",
    "lst1= [arr[3],arr[4]]\n",
    "lst2= [arr[5],arr[6]]\n",
    "arr1= np.array(lst1)\n",
    "arr2= np.array(lst2)\n",
    "print(arr1)\n",
    "print(arr2)\n",
    "print(type(arr1))\n",
    "print(type(arr2))\n",
    "\n",
    "array_final= np.array([arr1,arr2])\n",
    "print(array_final)\n"
   ]
  },
  {
   "cell_type": "code",
   "execution_count": 5,
   "id": "155f8c41",
   "metadata": {},
   "outputs": [
    {
     "data": {
      "text/plain": [
       "(2, 2)"
      ]
     },
     "execution_count": 5,
     "metadata": {},
     "output_type": "execute_result"
    }
   ],
   "source": [
    "array_final.shape"
   ]
  },
  {
   "cell_type": "code",
   "execution_count": null,
   "id": "cd9e91d0",
   "metadata": {},
   "outputs": [],
   "source": []
  }
 ],
 "metadata": {
  "kernelspec": {
   "display_name": "Python 3",
   "language": "python",
   "name": "python3"
  },
  "language_info": {
   "codemirror_mode": {
    "name": "ipython",
    "version": 3
   },
   "file_extension": ".py",
   "mimetype": "text/x-python",
   "name": "python",
   "nbconvert_exporter": "python",
   "pygments_lexer": "ipython3",
   "version": "3.8.8"
  }
 },
 "nbformat": 4,
 "nbformat_minor": 5
}
