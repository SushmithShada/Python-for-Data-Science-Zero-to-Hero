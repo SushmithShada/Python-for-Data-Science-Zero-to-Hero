{
 "cells": [
  {
   "cell_type": "markdown",
   "id": "c8ad34fe",
   "metadata": {},
   "source": [
    "# This program is to calculate the Simple interest for the Given Principle, Rate of interest and Time."
   ]
  },
  {
   "cell_type": "code",
   "execution_count": 9,
   "id": "391b6275",
   "metadata": {},
   "outputs": [
    {
     "name": "stdout",
     "output_type": "stream",
     "text": [
      "enter the principle amount- 12000\n",
      "<class 'int'>\n",
      "enter the rate of interest in percentage- 1\n",
      "<class 'int'>\n",
      "enter the time in years- 30\n",
      "The Simple interest for the above mentioned details is  3600.0\n"
     ]
    }
   ],
   "source": [
    "Principle= input(\"enter the principle amount- \")\n",
    "Principle= int(Principle)\n",
    "print(type(Principle))\n",
    "\n",
    "Rate_of_interest= input(\"enter the rate of interest in percentage- \")\n",
    "Rate_of_interest= int(Rate_of_interest)\n",
    "print(type(Rate_of_interest))\n",
    "\n",
    "Time= input(\"enter the time in years- \")\n",
    "Time= int(Time)\n",
    "\n",
    "# calculating the simple interest now\n",
    "\n",
    "Simple_interest= (Principle*Rate_of_interest*Time)/100\n",
    "\n",
    "print(\"The Simple interest for the above mentioned details is \", Simple_interest)"
   ]
  }
 ],
 "metadata": {
  "kernelspec": {
   "display_name": "Python 3",
   "language": "python",
   "name": "python3"
  },
  "language_info": {
   "codemirror_mode": {
    "name": "ipython",
    "version": 3
   },
   "file_extension": ".py",
   "mimetype": "text/x-python",
   "name": "python",
   "nbconvert_exporter": "python",
   "pygments_lexer": "ipython3",
   "version": "3.8.8"
  }
 },
 "nbformat": 4,
 "nbformat_minor": 5
}
