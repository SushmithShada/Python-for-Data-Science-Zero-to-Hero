{
 "cells": [
  {
   "cell_type": "code",
   "execution_count": 2,
   "id": "9e10caf6",
   "metadata": {},
   "outputs": [],
   "source": [
    "import pandas as pd\n",
    "import numpy as np\n",
    "\n",
    "df=pd.DataFrame(np.random.randn(5,4), index=['A','B','C','D','E'], columns=['One','Two','Three','Four'])\n"
   ]
  },
  {
   "cell_type": "code",
   "execution_count": 3,
   "id": "c0a91b70",
   "metadata": {},
   "outputs": [
    {
     "data": {
      "text/html": [
       "<div>\n",
       "<style scoped>\n",
       "    .dataframe tbody tr th:only-of-type {\n",
       "        vertical-align: middle;\n",
       "    }\n",
       "\n",
       "    .dataframe tbody tr th {\n",
       "        vertical-align: top;\n",
       "    }\n",
       "\n",
       "    .dataframe thead th {\n",
       "        text-align: right;\n",
       "    }\n",
       "</style>\n",
       "<table border=\"1\" class=\"dataframe\">\n",
       "  <thead>\n",
       "    <tr style=\"text-align: right;\">\n",
       "      <th></th>\n",
       "      <th>One</th>\n",
       "      <th>Two</th>\n",
       "      <th>Three</th>\n",
       "      <th>Four</th>\n",
       "    </tr>\n",
       "  </thead>\n",
       "  <tbody>\n",
       "    <tr>\n",
       "      <th>A</th>\n",
       "      <td>0.431070</td>\n",
       "      <td>-0.635331</td>\n",
       "      <td>0.650374</td>\n",
       "      <td>0.875642</td>\n",
       "    </tr>\n",
       "    <tr>\n",
       "      <th>B</th>\n",
       "      <td>-0.824965</td>\n",
       "      <td>0.120297</td>\n",
       "      <td>-0.790363</td>\n",
       "      <td>1.367665</td>\n",
       "    </tr>\n",
       "    <tr>\n",
       "      <th>C</th>\n",
       "      <td>0.045511</td>\n",
       "      <td>-0.049755</td>\n",
       "      <td>0.366123</td>\n",
       "      <td>-0.456076</td>\n",
       "    </tr>\n",
       "    <tr>\n",
       "      <th>D</th>\n",
       "      <td>-1.084582</td>\n",
       "      <td>-0.267487</td>\n",
       "      <td>0.548181</td>\n",
       "      <td>-0.395041</td>\n",
       "    </tr>\n",
       "    <tr>\n",
       "      <th>E</th>\n",
       "      <td>-0.524433</td>\n",
       "      <td>1.646633</td>\n",
       "      <td>0.745260</td>\n",
       "      <td>-0.200980</td>\n",
       "    </tr>\n",
       "  </tbody>\n",
       "</table>\n",
       "</div>"
      ],
      "text/plain": [
       "        One       Two     Three      Four\n",
       "A  0.431070 -0.635331  0.650374  0.875642\n",
       "B -0.824965  0.120297 -0.790363  1.367665\n",
       "C  0.045511 -0.049755  0.366123 -0.456076\n",
       "D -1.084582 -0.267487  0.548181 -0.395041\n",
       "E -0.524433  1.646633  0.745260 -0.200980"
      ]
     },
     "execution_count": 3,
     "metadata": {},
     "output_type": "execute_result"
    }
   ],
   "source": [
    "df.head()"
   ]
  },
  {
   "cell_type": "code",
   "execution_count": 4,
   "id": "4b85f3ba",
   "metadata": {},
   "outputs": [
    {
     "name": "stdout",
     "output_type": "stream",
     "text": [
      "<class 'pandas.core.frame.DataFrame'>\n",
      "Index: 5 entries, A to E\n",
      "Data columns (total 4 columns):\n",
      " #   Column  Non-Null Count  Dtype  \n",
      "---  ------  --------------  -----  \n",
      " 0   One     5 non-null      float64\n",
      " 1   Two     5 non-null      float64\n",
      " 2   Three   5 non-null      float64\n",
      " 3   Four    5 non-null      float64\n",
      "dtypes: float64(4)\n",
      "memory usage: 200.0+ bytes\n"
     ]
    }
   ],
   "source": [
    "df.info()"
   ]
  },
  {
   "cell_type": "code",
   "execution_count": 5,
   "id": "f16070d4",
   "metadata": {},
   "outputs": [
    {
     "data": {
      "text/plain": [
       "(5, 4)"
      ]
     },
     "execution_count": 5,
     "metadata": {},
     "output_type": "execute_result"
    }
   ],
   "source": [
    "df.shape"
   ]
  },
  {
   "cell_type": "code",
   "execution_count": 9,
   "id": "62efcb2a",
   "metadata": {},
   "outputs": [
    {
     "data": {
      "text/html": [
       "<div>\n",
       "<style scoped>\n",
       "    .dataframe tbody tr th:only-of-type {\n",
       "        vertical-align: middle;\n",
       "    }\n",
       "\n",
       "    .dataframe tbody tr th {\n",
       "        vertical-align: top;\n",
       "    }\n",
       "\n",
       "    .dataframe thead th {\n",
       "        text-align: right;\n",
       "    }\n",
       "</style>\n",
       "<table border=\"1\" class=\"dataframe\">\n",
       "  <thead>\n",
       "    <tr style=\"text-align: right;\">\n",
       "      <th></th>\n",
       "      <th>One</th>\n",
       "      <th>Two</th>\n",
       "      <th>Three</th>\n",
       "      <th>Four</th>\n",
       "    </tr>\n",
       "  </thead>\n",
       "  <tbody>\n",
       "    <tr>\n",
       "      <th>count</th>\n",
       "      <td>5.000000</td>\n",
       "      <td>5.000000</td>\n",
       "      <td>5.000000</td>\n",
       "      <td>5.000000</td>\n",
       "    </tr>\n",
       "    <tr>\n",
       "      <th>mean</th>\n",
       "      <td>-0.391480</td>\n",
       "      <td>0.162871</td>\n",
       "      <td>0.303915</td>\n",
       "      <td>0.238242</td>\n",
       "    </tr>\n",
       "    <tr>\n",
       "      <th>std</th>\n",
       "      <td>0.623203</td>\n",
       "      <td>0.876200</td>\n",
       "      <td>0.627654</td>\n",
       "      <td>0.830349</td>\n",
       "    </tr>\n",
       "    <tr>\n",
       "      <th>min</th>\n",
       "      <td>-1.084582</td>\n",
       "      <td>-0.635331</td>\n",
       "      <td>-0.790363</td>\n",
       "      <td>-0.456076</td>\n",
       "    </tr>\n",
       "    <tr>\n",
       "      <th>25%</th>\n",
       "      <td>-0.824965</td>\n",
       "      <td>-0.267487</td>\n",
       "      <td>0.366123</td>\n",
       "      <td>-0.395041</td>\n",
       "    </tr>\n",
       "    <tr>\n",
       "      <th>50%</th>\n",
       "      <td>-0.524433</td>\n",
       "      <td>-0.049755</td>\n",
       "      <td>0.548181</td>\n",
       "      <td>-0.200980</td>\n",
       "    </tr>\n",
       "    <tr>\n",
       "      <th>75%</th>\n",
       "      <td>0.045511</td>\n",
       "      <td>0.120297</td>\n",
       "      <td>0.650374</td>\n",
       "      <td>0.875642</td>\n",
       "    </tr>\n",
       "    <tr>\n",
       "      <th>max</th>\n",
       "      <td>0.431070</td>\n",
       "      <td>1.646633</td>\n",
       "      <td>0.745260</td>\n",
       "      <td>1.367665</td>\n",
       "    </tr>\n",
       "  </tbody>\n",
       "</table>\n",
       "</div>"
      ],
      "text/plain": [
       "            One       Two     Three      Four\n",
       "count  5.000000  5.000000  5.000000  5.000000\n",
       "mean  -0.391480  0.162871  0.303915  0.238242\n",
       "std    0.623203  0.876200  0.627654  0.830349\n",
       "min   -1.084582 -0.635331 -0.790363 -0.456076\n",
       "25%   -0.824965 -0.267487  0.366123 -0.395041\n",
       "50%   -0.524433 -0.049755  0.548181 -0.200980\n",
       "75%    0.045511  0.120297  0.650374  0.875642\n",
       "max    0.431070  1.646633  0.745260  1.367665"
      ]
     },
     "execution_count": 9,
     "metadata": {},
     "output_type": "execute_result"
    }
   ],
   "source": [
    "df.describe()"
   ]
  },
  {
   "cell_type": "code",
   "execution_count": 8,
   "id": "96a47329",
   "metadata": {},
   "outputs": [
    {
     "data": {
      "text/plain": [
       "One        Two        Three      Four     \n",
       "-1.084582  -0.267487   0.548181  -0.395041    1\n",
       "-0.824965   0.120297  -0.790363   1.367665    1\n",
       "-0.524433   1.646633   0.745260  -0.200980    1\n",
       " 0.045511  -0.049755   0.366123  -0.456076    1\n",
       " 0.431070  -0.635331   0.650374   0.875642    1\n",
       "dtype: int64"
      ]
     },
     "execution_count": 8,
     "metadata": {},
     "output_type": "execute_result"
    }
   ],
   "source": [
    "df.value_counts()"
   ]
  },
  {
   "cell_type": "code",
   "execution_count": 10,
   "id": "4bb53927",
   "metadata": {},
   "outputs": [
    {
     "data": {
      "text/html": [
       "<div>\n",
       "<style scoped>\n",
       "    .dataframe tbody tr th:only-of-type {\n",
       "        vertical-align: middle;\n",
       "    }\n",
       "\n",
       "    .dataframe tbody tr th {\n",
       "        vertical-align: top;\n",
       "    }\n",
       "\n",
       "    .dataframe thead th {\n",
       "        text-align: right;\n",
       "    }\n",
       "</style>\n",
       "<table border=\"1\" class=\"dataframe\">\n",
       "  <thead>\n",
       "    <tr style=\"text-align: right;\">\n",
       "      <th></th>\n",
       "      <th>One</th>\n",
       "      <th>Two</th>\n",
       "      <th>Three</th>\n",
       "      <th>Four</th>\n",
       "    </tr>\n",
       "  </thead>\n",
       "  <tbody>\n",
       "    <tr>\n",
       "      <th>One</th>\n",
       "      <td>1.00000</td>\n",
       "      <td>-0.288440</td>\n",
       "      <td>0.356980</td>\n",
       "      <td>0.110450</td>\n",
       "    </tr>\n",
       "    <tr>\n",
       "      <th>Two</th>\n",
       "      <td>-0.28844</td>\n",
       "      <td>1.000000</td>\n",
       "      <td>0.139352</td>\n",
       "      <td>-0.270905</td>\n",
       "    </tr>\n",
       "    <tr>\n",
       "      <th>Three</th>\n",
       "      <td>0.35698</td>\n",
       "      <td>0.139352</td>\n",
       "      <td>1.000000</td>\n",
       "      <td>-0.674825</td>\n",
       "    </tr>\n",
       "    <tr>\n",
       "      <th>Four</th>\n",
       "      <td>0.11045</td>\n",
       "      <td>-0.270905</td>\n",
       "      <td>-0.674825</td>\n",
       "      <td>1.000000</td>\n",
       "    </tr>\n",
       "  </tbody>\n",
       "</table>\n",
       "</div>"
      ],
      "text/plain": [
       "           One       Two     Three      Four\n",
       "One    1.00000 -0.288440  0.356980  0.110450\n",
       "Two   -0.28844  1.000000  0.139352 -0.270905\n",
       "Three  0.35698  0.139352  1.000000 -0.674825\n",
       "Four   0.11045 -0.270905 -0.674825  1.000000"
      ]
     },
     "execution_count": 10,
     "metadata": {},
     "output_type": "execute_result"
    }
   ],
   "source": [
    "df.corr()"
   ]
  },
  {
   "cell_type": "code",
   "execution_count": 14,
   "id": "8474bd07",
   "metadata": {},
   "outputs": [
    {
     "data": {
      "text/html": [
       "<div>\n",
       "<style scoped>\n",
       "    .dataframe tbody tr th:only-of-type {\n",
       "        vertical-align: middle;\n",
       "    }\n",
       "\n",
       "    .dataframe tbody tr th {\n",
       "        vertical-align: top;\n",
       "    }\n",
       "\n",
       "    .dataframe thead th {\n",
       "        text-align: right;\n",
       "    }\n",
       "</style>\n",
       "<table border=\"1\" class=\"dataframe\">\n",
       "  <thead>\n",
       "    <tr style=\"text-align: right;\">\n",
       "      <th></th>\n",
       "      <th>One</th>\n",
       "      <th>Two</th>\n",
       "      <th>Three</th>\n",
       "      <th>Four</th>\n",
       "    </tr>\n",
       "  </thead>\n",
       "  <tbody>\n",
       "    <tr>\n",
       "      <th>A</th>\n",
       "      <td>0.431070</td>\n",
       "      <td>-0.635331</td>\n",
       "      <td>0.650374</td>\n",
       "      <td>0.875642</td>\n",
       "    </tr>\n",
       "    <tr>\n",
       "      <th>B</th>\n",
       "      <td>-0.824965</td>\n",
       "      <td>0.120297</td>\n",
       "      <td>-0.790363</td>\n",
       "      <td>1.367665</td>\n",
       "    </tr>\n",
       "    <tr>\n",
       "      <th>C</th>\n",
       "      <td>0.045511</td>\n",
       "      <td>-0.049755</td>\n",
       "      <td>0.366123</td>\n",
       "      <td>-0.456076</td>\n",
       "    </tr>\n",
       "    <tr>\n",
       "      <th>D</th>\n",
       "      <td>-1.084582</td>\n",
       "      <td>-0.267487</td>\n",
       "      <td>0.548181</td>\n",
       "      <td>-0.395041</td>\n",
       "    </tr>\n",
       "    <tr>\n",
       "      <th>E</th>\n",
       "      <td>-0.524433</td>\n",
       "      <td>1.646633</td>\n",
       "      <td>0.745260</td>\n",
       "      <td>-0.200980</td>\n",
       "    </tr>\n",
       "  </tbody>\n",
       "</table>\n",
       "</div>"
      ],
      "text/plain": [
       "        One       Two     Three      Four\n",
       "A  0.431070 -0.635331  0.650374  0.875642\n",
       "B -0.824965  0.120297 -0.790363  1.367665\n",
       "C  0.045511 -0.049755  0.366123 -0.456076\n",
       "D -1.084582 -0.267487  0.548181 -0.395041\n",
       "E -0.524433  1.646633  0.745260 -0.200980"
      ]
     },
     "execution_count": 14,
     "metadata": {},
     "output_type": "execute_result"
    }
   ],
   "source": [
    "df.tail()"
   ]
  },
  {
   "cell_type": "code",
   "execution_count": null,
   "id": "4cf22f86",
   "metadata": {},
   "outputs": [],
   "source": []
  }
 ],
 "metadata": {
  "kernelspec": {
   "display_name": "Python 3",
   "language": "python",
   "name": "python3"
  },
  "language_info": {
   "codemirror_mode": {
    "name": "ipython",
    "version": 3
   },
   "file_extension": ".py",
   "mimetype": "text/x-python",
   "name": "python",
   "nbconvert_exporter": "python",
   "pygments_lexer": "ipython3",
   "version": "3.8.8"
  }
 },
 "nbformat": 4,
 "nbformat_minor": 5
}
